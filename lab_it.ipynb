{
  "nbformat": 4,
  "nbformat_minor": 0,
  "metadata": {
    "colab": {
      "name": "lab_it.ipynb",
      "provenance": [],
      "collapsed_sections": [],
      "toc_visible": true
    },
    "kernelspec": {
      "name": "python3",
      "display_name": "Python 3"
    }
  },
  "cells": [
    {
      "cell_type": "code",
      "metadata": {
        "id": "4cPP5EfoAC74"
      },
      "source": [
        "import os\n",
        "import pandas as pd\n",
        "import numpy as np\n",
        "import datetime\n",
        "\n",
        "if not os.path.exists('aircraft.csv'):\n",
        "    !wget https://github.com/sudakov/lab_it/raw/master/aircraft.csv\n",
        "if not os.path.exists('airports.csv'):\n",
        "    !wget https://github.com/sudakov/lab_it/raw/master/airports.csv\n",
        "if not os.path.exists('airlines.csv'):\n",
        "    !wget https://github.com/sudakov/lab_it/raw/master/airlines.csv\n",
        "if not os.path.exists('cargo transportation.csv'):\n",
        "    !wget https://github.com/sudakov/lab_it/raw/master/cargo%20transportation.csv\n",
        "if not os.path.exists('passenger transportation.csv'):\n",
        "    !wget https://github.com/sudakov/lab_it/raw/master/passenger%20transportation.csv"
      ],
      "execution_count": 1,
      "outputs": []
    },
    {
      "cell_type": "code",
      "metadata": {
        "id": "PgNzXuvDAmn2"
      },
      "source": [
        "aircraft_df = pd.read_csv('aircraft.csv', sep=';')\n",
        "airports_df = pd.DataFrame(pd.read_csv('airports.csv', sep=',').values, \n",
        "                           columns=['аэропорт', 'документ', 'компания', 'категория'])\n",
        "airlines_df = pd.read_csv('https://raw.githubusercontent.com/sudakov/lab_it/master/airlines.csv', \n",
        "                            names=['короткое название', \"полное название\", \"аэропорт\", \"типы воздушных судов\"])\n",
        "cargo_df = pd.read_csv('cargo transportation.csv', sep=';')\n",
        "passenger_df = pd.read_csv('passenger transportation.csv', sep=';')"
      ],
      "execution_count": 2,
      "outputs": []
    },
    {
      "cell_type": "markdown",
      "metadata": {
        "id": "9rMbPsgRT10x"
      },
      "source": [
        "### 1. Постройте список уникальных типов самолетов зарегистрированных в России"
      ]
    },
    {
      "cell_type": "code",
      "metadata": {
        "id": "ylsdEci9THXR",
        "colab": {
          "base_uri": "https://localhost:8080/"
        },
        "outputId": "bfa59047-d3ea-4215-dcf1-a8e30df8db25"
      },
      "source": [
        "unique_planes = aircraft_df[aircraft_df['Опознавательные знаки'].str.startswith('RA') &\n",
        "                        (aircraft_df['Вид воздушного судна'] == 'самолет')]\n",
        "np.unique(unique_planes['Тип (наименование) воздушного судна'])"
      ],
      "execution_count": 3,
      "outputs": [
        {
          "output_type": "execute_result",
          "data": {
            "text/plain": [
              "array(['\"ZODIAK\" CH-701 STOL', '\"АВИА\"-АЗЦ-14', '\"Форсаж\"', ...,\n",
              "       'Яр-12 \"Ворон\"', 'Ястреб', 'Яша'], dtype=object)"
            ]
          },
          "metadata": {
            "tags": []
          },
          "execution_count": 3
        }
      ]
    },
    {
      "cell_type": "markdown",
      "metadata": {
        "id": "wWfbAsQ5T5Qb"
      },
      "source": [
        "### 2. Какой тип самолета имеет самую раннюю дату выдачи сертификата?\n"
      ]
    },
    {
      "cell_type": "code",
      "metadata": {
        "colab": {
          "base_uri": "https://localhost:8080/",
          "height": 37
        },
        "id": "s7F0j_X8VvEQ",
        "outputId": "31dcf2c3-76bd-4289-b599-257232433e6e"
      },
      "source": [
        "times_str = aircraft_df['дата действующего свидетельства о регистрации'].values\n",
        "\n",
        "def string_to_datetime(string):\n",
        "        if string:\n",
        "            d, m, y = tuple(string.split('.'))\n",
        "            return datetime.date(int(y), int(m), int(d))\n",
        "\n",
        "times_datatime = list(map(string_to_datetime, times_str))\n",
        "time_list = str(min(times_datatime)).split('-')\n",
        "time_list.reverse()\n",
        "time_str = '.'.join(time_list)\n",
        "\n",
        "oldest_plane = aircraft_df.iloc[list(times_str == time_str).index(True), 1]\n",
        "oldest_plane"
      ],
      "execution_count": 4,
      "outputs": [
        {
          "output_type": "execute_result",
          "data": {
            "application/vnd.google.colaboratory.intrinsic+json": {
              "type": "string"
            },
            "text/plain": [
              "'Ан-2'"
            ]
          },
          "metadata": {
            "tags": []
          },
          "execution_count": 4
        }
      ]
    },
    {
      "cell_type": "markdown",
      "metadata": {
        "id": "mNyLLdSFymen"
      },
      "source": [
        "### 3. Постройте запрос: Владелец аэропорта, Аэропорт, Пассажиропоток суммарный за 2018 год, Грузопоток суммарный за 2018 год"
      ]
    },
    {
      "cell_type": "code",
      "metadata": {
        "id": "mUpl8JM6IAQ1"
      },
      "source": [
        "airports_df['Наименование аэропорта РФ'] =\\\n",
        "airports_df['аэропорт'].astype('str').apply(lambda x: x.strip().split()[0])"
      ],
      "execution_count": 17,
      "outputs": []
    },
    {
      "cell_type": "code",
      "metadata": {
        "id": "bt3H1ueCJ_A_"
      },
      "source": [
        "passenger_df_ = passenger_df.drop(columns=['Январь - Декабрь'])\n",
        "passenger_df_.replace('***', 0, inplace=True)\n",
        "passenger_df_.fillna(0, inplace=True)\n",
        "\n",
        "for column in passenger_df_.columns[1:]:\n",
        "    passenger_df_[column] = passenger_df_[column].astype('str').apply(lambda x: int(x.replace(' ', '')))\n",
        "passenger_df_['Суммарный пассажиропоток'] = passenger_df_.iloc[:, 2:].sum(axis=1).copy()"
      ],
      "execution_count": 6,
      "outputs": []
    },
    {
      "cell_type": "code",
      "metadata": {
        "id": "e3GQzwzzmFi2"
      },
      "source": [
        "cargo_df_ = cargo_df.replace('***', 0)\n",
        "cargo_df_['Год периода данных'] = cargo_df_['Год периода данных'].apply(lambda x: int(x.replace(' ', '')))\n",
        "cargo_df_ = cargo_df_.drop(columns=['Январь - Декабрь'])\n",
        "cargo_df_.fillna(0, inplace=True)\n",
        "\n",
        "for column in cargo_df_.columns[2:]:\n",
        "    cargo_df_[column] = cargo_df_[column].astype('str').apply(lambda x: float(x.replace(',', '.').replace(' ', '')))\n",
        "cargo_df_['Суммарный грузопоток'] = cargo_df_.iloc[:, 2:].sum(axis=1).copy()"
      ],
      "execution_count": 7,
      "outputs": []
    },
    {
      "cell_type": "code",
      "metadata": {
        "colab": {
          "base_uri": "https://localhost:8080/",
          "height": 541
        },
        "id": "W9cZ2KQbpjRs",
        "outputId": "724e0539-aa82-4dc0-87e5-e033809c0e33"
      },
      "source": [
        "flow_df = passenger_df_[['Наименование аэропорта РФ', 'Суммарный пассажиропоток']]\n",
        "flow_df['Суммарный грузопоток'] = cargo_df_['Суммарный грузопоток']\n",
        "flow_df = flow_df.iloc[np.where(passenger_df_['Год периода данных'] == 2018)[0]]\n",
        "flow_df"
      ],
      "execution_count": 8,
      "outputs": [
        {
          "output_type": "stream",
          "text": [
            "/usr/local/lib/python3.6/dist-packages/ipykernel_launcher.py:2: SettingWithCopyWarning: \n",
            "A value is trying to be set on a copy of a slice from a DataFrame.\n",
            "Try using .loc[row_indexer,col_indexer] = value instead\n",
            "\n",
            "See the caveats in the documentation: https://pandas.pydata.org/pandas-docs/stable/user_guide/indexing.html#returning-a-view-versus-a-copy\n",
            "  \n"
          ],
          "name": "stderr"
        },
        {
          "output_type": "execute_result",
          "data": {
            "text/html": [
              "<div>\n",
              "<style scoped>\n",
              "    .dataframe tbody tr th:only-of-type {\n",
              "        vertical-align: middle;\n",
              "    }\n",
              "\n",
              "    .dataframe tbody tr th {\n",
              "        vertical-align: top;\n",
              "    }\n",
              "\n",
              "    .dataframe thead th {\n",
              "        text-align: right;\n",
              "    }\n",
              "</style>\n",
              "<table border=\"1\" class=\"dataframe\">\n",
              "  <thead>\n",
              "    <tr style=\"text-align: right;\">\n",
              "      <th></th>\n",
              "      <th>Наименование аэропорта РФ</th>\n",
              "      <th>Суммарный пассажиропоток</th>\n",
              "      <th>Суммарный грузопоток</th>\n",
              "    </tr>\n",
              "  </thead>\n",
              "  <tbody>\n",
              "    <tr>\n",
              "      <th>0</th>\n",
              "      <td>Абакан</td>\n",
              "      <td>150533</td>\n",
              "      <td>638.50</td>\n",
              "    </tr>\n",
              "    <tr>\n",
              "      <th>1</th>\n",
              "      <td>Айхал</td>\n",
              "      <td>0</td>\n",
              "      <td>0.00</td>\n",
              "    </tr>\n",
              "    <tr>\n",
              "      <th>2</th>\n",
              "      <td>Алдан</td>\n",
              "      <td>0</td>\n",
              "      <td>0.00</td>\n",
              "    </tr>\n",
              "    <tr>\n",
              "      <th>3</th>\n",
              "      <td>Амдерма</td>\n",
              "      <td>0</td>\n",
              "      <td>0.00</td>\n",
              "    </tr>\n",
              "    <tr>\n",
              "      <th>4</th>\n",
              "      <td>Анадырь</td>\n",
              "      <td>78826</td>\n",
              "      <td>1492.64</td>\n",
              "    </tr>\n",
              "    <tr>\n",
              "      <th>...</th>\n",
              "      <td>...</td>\n",
              "      <td>...</td>\n",
              "      <td>...</td>\n",
              "    </tr>\n",
              "    <tr>\n",
              "      <th>256</th>\n",
              "      <td>Якутск</td>\n",
              "      <td>707508</td>\n",
              "      <td>7055.46</td>\n",
              "    </tr>\n",
              "    <tr>\n",
              "      <th>257</th>\n",
              "      <td>Якутск(Маган)</td>\n",
              "      <td>0</td>\n",
              "      <td>0.00</td>\n",
              "    </tr>\n",
              "    <tr>\n",
              "      <th>258</th>\n",
              "      <td>Ямбург</td>\n",
              "      <td>45828</td>\n",
              "      <td>1.66</td>\n",
              "    </tr>\n",
              "    <tr>\n",
              "      <th>259</th>\n",
              "      <td>Ярославль(Туношна)</td>\n",
              "      <td>18935</td>\n",
              "      <td>1933.63</td>\n",
              "    </tr>\n",
              "    <tr>\n",
              "      <th>260</th>\n",
              "      <td>Ярцево</td>\n",
              "      <td>0</td>\n",
              "      <td>0.00</td>\n",
              "    </tr>\n",
              "  </tbody>\n",
              "</table>\n",
              "<p>261 rows × 3 columns</p>\n",
              "</div>"
            ],
            "text/plain": [
              "    Наименование аэропорта РФ  Суммарный пассажиропоток  Суммарный грузопоток\n",
              "0                      Абакан                    150533                638.50\n",
              "1                       Айхал                         0                  0.00\n",
              "2                       Алдан                         0                  0.00\n",
              "3                     Амдерма                         0                  0.00\n",
              "4                     Анадырь                     78826               1492.64\n",
              "..                        ...                       ...                   ...\n",
              "256                    Якутск                    707508               7055.46\n",
              "257             Якутск(Маган)                         0                  0.00\n",
              "258                    Ямбург                     45828                  1.66\n",
              "259        Ярославль(Туношна)                     18935               1933.63\n",
              "260                    Ярцево                         0                  0.00\n",
              "\n",
              "[261 rows x 3 columns]"
            ]
          },
          "metadata": {
            "tags": []
          },
          "execution_count": 8
        }
      ]
    },
    {
      "cell_type": "markdown",
      "metadata": {
        "id": "ouz0IXNFyqL7"
      },
      "source": [
        "### 4. Перечислите аэропорты, где пассажиропоток меньше медианы, а грузопоток больше медианы "
      ]
    },
    {
      "cell_type": "code",
      "metadata": {
        "id": "qGVw_uU91Lc-"
      },
      "source": [
        "passengers_df = pd.read_csv('passenger transportation.csv', sep=';')\n",
        "passengers_df = passengers_df.where(~(passengers_df == '***'), None)\n",
        "passengers_df = passengers_df.where(~pd.isna(passengers_df), None)"
      ],
      "execution_count": 9,
      "outputs": []
    },
    {
      "cell_type": "code",
      "metadata": {
        "id": "SZsukYsUEPe4"
      },
      "source": [
        "cargo_df = pd.read_csv('cargo transportation.csv', sep=';')\n",
        "cargo_df = cargo_df.where(~(cargo_df == '***'), None)\n",
        "cargo_df = cargo_df.where(~pd.isna(cargo_df), None)"
      ],
      "execution_count": 10,
      "outputs": []
    },
    {
      "cell_type": "code",
      "metadata": {
        "id": "9eLO0GXg0heG"
      },
      "source": [
        "# вычислим медиану пассажиропотока и грузооборота\n",
        "passengers_np = passengers_df.iloc[:, 2:-1].values.reshape(-1)\n",
        "passengers_np = np.delete(passengers_np, passengers_np == None)\n",
        "\n",
        "passengers_ints = sorted(list(map(lambda x: int(x.replace(' ', '')), passengers_np)))\n",
        "passengers_median = passengers_ints[int(len(passengers_ints)/2)]\n",
        "\n",
        "cargo_np = cargo_df.iloc[:, 2:-1].values.reshape(-1)\n",
        "cargo_np = np.delete(cargo_np, cargo_np == None)\n",
        "\n",
        "cargo_ints = sorted(list(map(lambda x: float(x.replace(',', '.').replace(' ', '')), cargo_np)))\n",
        "cargo_median = cargo_ints[int(len(cargo_ints)/2)]\n",
        "\n",
        "# passengers_median, cargo_median"
      ],
      "execution_count": 11,
      "outputs": []
    },
    {
      "cell_type": "markdown",
      "metadata": {
        "id": "cLA3CaDqLsyw"
      },
      "source": [
        "У каждого аэропорта грузопоток и пассажиропоток будем считать средними по известным значениям за год"
      ]
    },
    {
      "cell_type": "code",
      "metadata": {
        "id": "O8D7Ii5gMmWH",
        "colab": {
          "base_uri": "https://localhost:8080/"
        },
        "outputId": "ef4f78d8-5b4f-45bd-8328-0a7cd8881e83"
      },
      "source": [
        "airports = cargo_df.iloc[:, 0]\n",
        "def get_mean(x):\n",
        "    x = np.delete(x, x == None)\n",
        "    g = lambda y: float(y.replace(' ', '').replace(',', '.'))\n",
        "    p = list(map(g, x))\n",
        "    if len(p) == 0:\n",
        "        return None\n",
        "    else:\n",
        "        return np.mean(p)\n",
        "\n",
        "passengers_means = np.array(list(map(get_mean, passengers_df.iloc[:, 2:-1].values)))\n",
        "cargo_means = np.array(list(map(get_mean, cargo_df.iloc[:, 2:-1].values)))\n",
        "\n",
        "def passengers_compare(p):\n",
        "    if p and passengers_median:\n",
        "        return p < passengers_median\n",
        "    else:\n",
        "        return False\n",
        "\n",
        "def cargo_compare(c):\n",
        "    if c and cargo_median:\n",
        "        return c > cargo_median\n",
        "    else:\n",
        "        return False\n",
        "\n",
        "passengers_comparison = np.array(list(map(passengers_compare, passengers_means)))\n",
        "cargo_comparison = np.array(list(map(cargo_compare, cargo_means)))\n",
        "and_comparison = passengers_comparison * cargo_comparison\n",
        "\n",
        "airports.values[and_comparison]"
      ],
      "execution_count": 12,
      "outputs": [
        {
          "output_type": "execute_result",
          "data": {
            "text/plain": [
              "array(['Анадырь', 'Мирный', 'Ярославль(Туношна)', 'Анадырь',\n",
              "       'Комсомольск-на-Амуре', 'Мирный', 'Хатанга', 'Чита(Кадала)',\n",
              "       'Ярославль(Туношна)', 'Анадырь', 'Благовещенск', 'Кемерово',\n",
              "       'Комсомольск-на-Амуре', 'Магадан(Сокол)', 'Мирный', 'Хатанга',\n",
              "       'Чита(Кадала)', 'Ярославль(Туношна)', 'Анадырь', 'Благовещенск',\n",
              "       'Кемерово', 'Комсомольск-на-Амуре', 'Магадан(Сокол)', 'Мирный',\n",
              "       'Чита(Кадала)', 'Ярославль(Туношна)', 'Анадырь', 'Благовещенск',\n",
              "       'Комсомольск-на-Амуре', 'Магадан(Сокол)', 'Мирный', 'Хатанга',\n",
              "       'Чита(Кадала)', 'Ярославль(Туношна)', 'Анадырь', 'Благовещенск',\n",
              "       'Комсомольск-на-Амуре', 'Магадан(Сокол)', 'Мирный', 'Хатанга',\n",
              "       'Чита(Кадала)', 'Ярославль(Туношна)', 'Анадырь', 'Благовещенск',\n",
              "       'Комсомольск-на-Амуре', 'Ленск', 'Магадан(Сокол)', 'Мирный',\n",
              "       'Певек', 'Полярный', 'Хатанга', 'Чита(Кадала)',\n",
              "       'Ярославль(Туношна)', 'Анадырь', 'Кемерово', 'Магадан(Сокол)',\n",
              "       'Мирный', 'Хатанга', 'Ярославль(Туношна)', 'Анадырь', 'Кемерово',\n",
              "       'Магадан(Сокол)', 'Мирный', 'Хатанга', 'Ярославль(Туношна)',\n",
              "       'Анадырь', 'Кемерово', 'Когалым', 'Магадан(Сокол)', 'Мирный',\n",
              "       'Норильск', 'Полярный', 'Ярославль(Туношна)', 'Анадырь',\n",
              "       'Благовещенск', 'Когалым', 'Магадан(Сокол)', 'Полярный', 'Хатанга',\n",
              "       'Ярославль(Туношна)', 'Анадырь', 'Благовещенск', 'Когалым',\n",
              "       'Магадан(Сокол)', 'Полярный', 'Хатанга', 'Ярославль(Туношна)'],\n",
              "      dtype=object)"
            ]
          },
          "metadata": {
            "tags": []
          },
          "execution_count": 12
        }
      ]
    },
    {
      "cell_type": "markdown",
      "metadata": {
        "id": "4vNnP6gCyvjR"
      },
      "source": [
        "\n",
        "### 5. • Перечислите авиакомпании у которых нет типов воздушных судов зарегистрированных в России \n"
      ]
    },
    {
      "cell_type": "code",
      "metadata": {
        "id": "57qr6iuDyBnh",
        "colab": {
          "base_uri": "https://localhost:8080/"
        },
        "outputId": "1f51685c-3064-4051-b843-67f3ec83b209"
      },
      "source": [
        "def plane_check(plane_string):\n",
        "    plane_string_processed = []\n",
        "    for plane_name in plane_string.split(','):\n",
        "        plane_string_processed.append(plane_name[:-4].strip())\n",
        "    for plane in plane_string_processed:\n",
        "        if plane in airlines_df['типы воздушных судов'].values:\n",
        "            return False\n",
        "        else:\n",
        "            continue\n",
        "    return True\n",
        "\n",
        "airlines_df_ = airlines_df\n",
        "airlines_df_['все самолеты (не РФ)'] =\\\n",
        "    airlines_df_[airlines_df_[\"типы воздушных судов\"].notna()]['типы воздушных судов'].\\\n",
        "    astype('str').apply(plane_check)\n",
        "\n",
        "airlines_df_[airlines_df_['все самолеты (не РФ)'] == True]['короткое название'].values"
      ],
      "execution_count": 13,
      "outputs": [
        {
          "output_type": "execute_result",
          "data": {
            "text/plain": [
              "array(['Абакан Эир', 'Авиа Менеджмент Груп', 'Авиакомпания «Лайт Эйр»',\n",
              "       'Авиакомпания СОКОЛ', 'Авиакон Цитотранс', 'Авиалифт Владивосток',\n",
              "       'Авиасервис (Казань) (ИНН 1624446694)', 'Авиастар-ТУ', 'Авиашельф',\n",
              "       'Аврора', 'Ай Флай', 'АЛРОСА Авиакомпания ЗАО',\n",
              "       'Алтайские Авиалинии', 'Амур', 'Амурская авиабаза',\n",
              "       'Ангара АК ЗАО', 'Арго', 'Арт Авиа', 'АТРАН', 'АэроБратск',\n",
              "       'АэроГео', 'АЭРОКУЗБАСС', 'Аэролимузин', 'Аэропорт Оренбург',\n",
              "       'Аэросервис (Даг.)', 'Аэросервис (Чита)', 'Аэрофлот ОАО',\n",
              "       'Балтийские авиалинии', 'БАРКОЛ', 'Бурал', 'Вертикаль-Т ООО',\n",
              "       'ВЗЛЕТ НПО, ЗАО', 'ВИМ-АВИА', 'ВИТЯЗЬ-АЭРО АК ООО', 'ВОЛГА-ДНЕПР',\n",
              "       'Вологодское АП', 'Восток', 'Газпром авиа ООО', 'Геликс', 'Глобус',\n",
              "       'Грозный Авиа ОАО', 'Дальнереченск Авиа', 'Дельта К',\n",
              "       'Джет Эйр Групп', 'ДОНАВИА', 'Ельцовка АП ЗАО', 'Ижавиа ОАО',\n",
              "       'Икар ООО', 'ИрАэро АК ЗАО', 'Казанское авиапредприятие',\n",
              "       'Камчатское АП', 'Катэкавиа', 'Когалымавиа ООО',\n",
              "       'Комиавиатранс ОАО', 'Конверс Авиа', 'Космос',\n",
              "       'Костромское АП ОАО', 'КрасАвиа', 'Летные  проверки и системы',\n",
              "       'ЛУКОЙЛ-АВИА ООО', 'МАЦ', 'Меридиан', 'Мурманское АП',\n",
              "       'МЧС России ФГУАП', 'Нарьян-Марский ОАО', 'Нижневартовскавиа',\n",
              "       'Нордавиа-регион.АЛ', 'Оренбургские АЛ ОАО',\n",
              "       'ПАНХ АК ООО (Улан-Удэ)', 'ПАНХ НПК ОАО', 'Петрозаводск Аэропорт',\n",
              "       'Победа', 'Полярные авиалинии ОАО', 'Псковавиа', 'Ред Вингс АО',\n",
              "       'РКП «АК «Тува Авиа»', 'Россия Авиакомпания ОАО',\n",
              "       'Роствертол-Авиа, ЗАО', 'РОЯЛ ФЛАЙТ', 'РусДжет', 'РусЛайн',\n",
              "       'РУССЭЙР', 'СарАвиа', 'Северный Ветер', 'Северо-Запад',\n",
              "       'СЕВЕРСТАЛЬ АП ООО', 'СИБИА', 'Сибирь', 'СиЛА', 'СИМАРГЛ',\n",
              "       'СИРИУС-АЭРО', 'СКОЛ', 'Таймыр ОАО',\n",
              "       'Томск Авиа  Действие СЭ приостановлено', 'ТРАНСАЭРО',\n",
              "       'Тулпар Эйр', 'ТУРУХАН', 'Уктус', 'Универсал-Авиа ГУП РК',\n",
              "       'Уральские авиалинии', 'Хабаровские Авиалинии', 'ЦЕНТР-ЮГ',\n",
              "       'ЧукотАВИА', 'ШАР инк Лтд.', 'ЭйрБриджКарго', 'ЮТэйр ЗАО',\n",
              "       'ЮТэйр ПАО', 'ЮТэйр-Вертолётные услуги', 'Якутия', 'Ямал АК ООО',\n",
              "       'Ямал АТК ОАО', '2-й Архангельский ОАО, ОАО', '223-й ЛО ФГКУ',\n",
              "       '224-й ЛО ОАО'], dtype=object)"
            ]
          },
          "metadata": {
            "tags": []
          },
          "execution_count": 13
        }
      ]
    },
    {
      "cell_type": "markdown",
      "metadata": {
        "id": "Ezir3Pbry0a5"
      },
      "source": [
        "### 6. • Выведите список: Месяц, суммарный пассажиропоток за данный месяц, аэропорт в котором пассажиропоток в данном месяце максимальный \n"
      ]
    },
    {
      "cell_type": "code",
      "metadata": {
        "colab": {
          "base_uri": "https://localhost:8080/",
          "height": 292
        },
        "id": "9M_lzF28ZJxC",
        "outputId": "44de1676-6efc-4ec9-b427-a7ec37d90e1a"
      },
      "source": [
        "passengers_df = pd.read_csv('passenger transportation.csv', sep=';')\n",
        "passengers_df = passengers_df.where(~(passengers_df == '***'), None)\n",
        "passengers_df = passengers_df.where(~pd.isna(passengers_df), None)\n",
        "passengers_df.head()"
      ],
      "execution_count": 14,
      "outputs": [
        {
          "output_type": "execute_result",
          "data": {
            "text/html": [
              "<div>\n",
              "<style scoped>\n",
              "    .dataframe tbody tr th:only-of-type {\n",
              "        vertical-align: middle;\n",
              "    }\n",
              "\n",
              "    .dataframe tbody tr th {\n",
              "        vertical-align: top;\n",
              "    }\n",
              "\n",
              "    .dataframe thead th {\n",
              "        text-align: right;\n",
              "    }\n",
              "</style>\n",
              "<table border=\"1\" class=\"dataframe\">\n",
              "  <thead>\n",
              "    <tr style=\"text-align: right;\">\n",
              "      <th></th>\n",
              "      <th>Наименование аэропорта РФ</th>\n",
              "      <th>Год периода данных</th>\n",
              "      <th>Январь</th>\n",
              "      <th>Февраль</th>\n",
              "      <th>Март</th>\n",
              "      <th>Апрель</th>\n",
              "      <th>Май</th>\n",
              "      <th>Июнь</th>\n",
              "      <th>Июль</th>\n",
              "      <th>Август</th>\n",
              "      <th>Сентябрь</th>\n",
              "      <th>Октябрь</th>\n",
              "      <th>Ноябрь</th>\n",
              "      <th>Декабрь</th>\n",
              "      <th>Январь - Декабрь</th>\n",
              "    </tr>\n",
              "  </thead>\n",
              "  <tbody>\n",
              "    <tr>\n",
              "      <th>0</th>\n",
              "      <td>Абакан</td>\n",
              "      <td>2018</td>\n",
              "      <td>11 851</td>\n",
              "      <td>10 504</td>\n",
              "      <td>11 591</td>\n",
              "      <td>12 323</td>\n",
              "      <td>14 314</td>\n",
              "      <td>19 935</td>\n",
              "      <td>25 213</td>\n",
              "      <td>25 507</td>\n",
              "      <td>19 295</td>\n",
              "      <td>None</td>\n",
              "      <td>None</td>\n",
              "      <td>None</td>\n",
              "      <td>None</td>\n",
              "    </tr>\n",
              "    <tr>\n",
              "      <th>1</th>\n",
              "      <td>Айхал</td>\n",
              "      <td>2018</td>\n",
              "      <td>None</td>\n",
              "      <td>None</td>\n",
              "      <td>None</td>\n",
              "      <td>None</td>\n",
              "      <td>None</td>\n",
              "      <td>None</td>\n",
              "      <td>None</td>\n",
              "      <td>None</td>\n",
              "      <td>None</td>\n",
              "      <td>None</td>\n",
              "      <td>None</td>\n",
              "      <td>None</td>\n",
              "      <td>None</td>\n",
              "    </tr>\n",
              "    <tr>\n",
              "      <th>2</th>\n",
              "      <td>Алдан</td>\n",
              "      <td>2018</td>\n",
              "      <td>None</td>\n",
              "      <td>None</td>\n",
              "      <td>None</td>\n",
              "      <td>None</td>\n",
              "      <td>None</td>\n",
              "      <td>None</td>\n",
              "      <td>None</td>\n",
              "      <td>None</td>\n",
              "      <td>None</td>\n",
              "      <td>None</td>\n",
              "      <td>None</td>\n",
              "      <td>None</td>\n",
              "      <td>None</td>\n",
              "    </tr>\n",
              "    <tr>\n",
              "      <th>3</th>\n",
              "      <td>Амдерма</td>\n",
              "      <td>2018</td>\n",
              "      <td>None</td>\n",
              "      <td>None</td>\n",
              "      <td>None</td>\n",
              "      <td>None</td>\n",
              "      <td>None</td>\n",
              "      <td>None</td>\n",
              "      <td>None</td>\n",
              "      <td>None</td>\n",
              "      <td>None</td>\n",
              "      <td>None</td>\n",
              "      <td>None</td>\n",
              "      <td>None</td>\n",
              "      <td>None</td>\n",
              "    </tr>\n",
              "    <tr>\n",
              "      <th>4</th>\n",
              "      <td>Анадырь</td>\n",
              "      <td>2018</td>\n",
              "      <td>5 128</td>\n",
              "      <td>4 447</td>\n",
              "      <td>5 456</td>\n",
              "      <td>7 650</td>\n",
              "      <td>8 364</td>\n",
              "      <td>10 563</td>\n",
              "      <td>13 402</td>\n",
              "      <td>13 751</td>\n",
              "      <td>10 065</td>\n",
              "      <td>None</td>\n",
              "      <td>None</td>\n",
              "      <td>None</td>\n",
              "      <td>None</td>\n",
              "    </tr>\n",
              "  </tbody>\n",
              "</table>\n",
              "</div>"
            ],
            "text/plain": [
              "  Наименование аэропорта РФ  Год периода данных  ... Декабрь Январь - Декабрь\n",
              "0                    Абакан                2018  ...    None             None\n",
              "1                     Айхал                2018  ...    None             None\n",
              "2                     Алдан                2018  ...    None             None\n",
              "3                   Амдерма                2018  ...    None             None\n",
              "4                   Анадырь                2018  ...    None             None\n",
              "\n",
              "[5 rows x 15 columns]"
            ]
          },
          "metadata": {
            "tags": []
          },
          "execution_count": 14
        }
      ]
    },
    {
      "cell_type": "code",
      "metadata": {
        "colab": {
          "base_uri": "https://localhost:8080/",
          "height": 421
        },
        "id": "Mu0B2huOZ5KY",
        "outputId": "4f8ee2be-fecb-4102-9d6a-e95f8a50cccb"
      },
      "source": [
        "def str_to_int(x):\n",
        "    f = lambda y: int(y.replace(' ', '')) if y else y\n",
        "    return x.apply(f)\n",
        "\n",
        "pass_months_df = passengers_df.iloc[:, 2:-1].fillna(0)\n",
        "pass_months_df = pass_months_df.apply(str_to_int)\n",
        "sum_months_df = pass_months_df.apply(sum)\n",
        "\n",
        "data = {}\n",
        "months = passengers_df.iloc[:, 2:-1].columns.values\n",
        "pass_max = pass_months_df.apply(np.argmax).values\n",
        "for month, idx in zip(months, pass_max):\n",
        "    data[month] = passengers_df.iloc[idx, 0]\n",
        "final_df = pd.DataFrame(pd.Series(data), \n",
        "                        columns=['аэропорт с максимальным пассажиропотоком'])\n",
        "final_df['суммарный пассажиропоток'] = sum_months_df\n",
        "final_df"
      ],
      "execution_count": 15,
      "outputs": [
        {
          "output_type": "execute_result",
          "data": {
            "text/html": [
              "<div>\n",
              "<style scoped>\n",
              "    .dataframe tbody tr th:only-of-type {\n",
              "        vertical-align: middle;\n",
              "    }\n",
              "\n",
              "    .dataframe tbody tr th {\n",
              "        vertical-align: top;\n",
              "    }\n",
              "\n",
              "    .dataframe thead th {\n",
              "        text-align: right;\n",
              "    }\n",
              "</style>\n",
              "<table border=\"1\" class=\"dataframe\">\n",
              "  <thead>\n",
              "    <tr style=\"text-align: right;\">\n",
              "      <th></th>\n",
              "      <th>аэропорт с максимальным пассажиропотоком</th>\n",
              "      <th>суммарный пассажиропоток</th>\n",
              "    </tr>\n",
              "  </thead>\n",
              "  <tbody>\n",
              "    <tr>\n",
              "      <th>Январь</th>\n",
              "      <td>Москва(Шереметьево)</td>\n",
              "      <td>92581956</td>\n",
              "    </tr>\n",
              "    <tr>\n",
              "      <th>Февраль</th>\n",
              "      <td>Москва(Шереметьево)</td>\n",
              "      <td>84279197</td>\n",
              "    </tr>\n",
              "    <tr>\n",
              "      <th>Март</th>\n",
              "      <td>Москва(Шереметьево)</td>\n",
              "      <td>97548315</td>\n",
              "    </tr>\n",
              "    <tr>\n",
              "      <th>Апрель</th>\n",
              "      <td>Москва(Шереметьево)</td>\n",
              "      <td>103999255</td>\n",
              "    </tr>\n",
              "    <tr>\n",
              "      <th>Май</th>\n",
              "      <td>Москва(Шереметьево)</td>\n",
              "      <td>120740351</td>\n",
              "    </tr>\n",
              "    <tr>\n",
              "      <th>Июнь</th>\n",
              "      <td>Москва(Шереметьево)</td>\n",
              "      <td>146081971</td>\n",
              "    </tr>\n",
              "    <tr>\n",
              "      <th>Июль</th>\n",
              "      <td>Москва(Шереметьево)</td>\n",
              "      <td>167043305</td>\n",
              "    </tr>\n",
              "    <tr>\n",
              "      <th>Август</th>\n",
              "      <td>Москва(Шереметьево)</td>\n",
              "      <td>171378013</td>\n",
              "    </tr>\n",
              "    <tr>\n",
              "      <th>Сентябрь</th>\n",
              "      <td>Москва(Шереметьево)</td>\n",
              "      <td>148372441</td>\n",
              "    </tr>\n",
              "    <tr>\n",
              "      <th>Октябрь</th>\n",
              "      <td>Москва(Шереметьево)</td>\n",
              "      <td>108301174</td>\n",
              "    </tr>\n",
              "    <tr>\n",
              "      <th>Ноябрь</th>\n",
              "      <td>Москва(Шереметьево)</td>\n",
              "      <td>91962821</td>\n",
              "    </tr>\n",
              "    <tr>\n",
              "      <th>Декабрь</th>\n",
              "      <td>Москва(Шереметьево)</td>\n",
              "      <td>91356375</td>\n",
              "    </tr>\n",
              "  </tbody>\n",
              "</table>\n",
              "</div>"
            ],
            "text/plain": [
              "         аэропорт с максимальным пассажиропотоком  суммарный пассажиропоток\n",
              "Январь                        Москва(Шереметьево)                  92581956\n",
              "Февраль                       Москва(Шереметьево)                  84279197\n",
              "Март                          Москва(Шереметьево)                  97548315\n",
              "Апрель                        Москва(Шереметьево)                 103999255\n",
              "Май                           Москва(Шереметьево)                 120740351\n",
              "Июнь                          Москва(Шереметьево)                 146081971\n",
              "Июль                          Москва(Шереметьево)                 167043305\n",
              "Август                        Москва(Шереметьево)                 171378013\n",
              "Сентябрь                      Москва(Шереметьево)                 148372441\n",
              "Октябрь                       Москва(Шереметьево)                 108301174\n",
              "Ноябрь                        Москва(Шереметьево)                  91962821\n",
              "Декабрь                       Москва(Шереметьево)                  91356375"
            ]
          },
          "metadata": {
            "tags": []
          },
          "execution_count": 15
        }
      ]
    },
    {
      "cell_type": "markdown",
      "metadata": {
        "id": "ut3kGi2sy1tK"
      },
      "source": [
        "### 7. • Выведите список: Тип аэропорта, средний грузопоток в месяц в аэропортах данного типа"
      ]
    },
    {
      "cell_type": "code",
      "metadata": {
        "colab": {
          "base_uri": "https://localhost:8080/",
          "height": 419
        },
        "id": "c_UUexFQ0tN0",
        "outputId": "acc951ad-7eca-4423-b8db-b0ef37d495e0"
      },
      "source": [
        "data = {\n",
        "    'Наименование аэропорта РФ': cargo_df.iloc[:, 0].values,\n",
        "    'средний грузопоток': cargo_means,\n",
        "}\n",
        "pd.DataFrame(data)"
      ],
      "execution_count": 16,
      "outputs": [
        {
          "output_type": "execute_result",
          "data": {
            "text/html": [
              "<div>\n",
              "<style scoped>\n",
              "    .dataframe tbody tr th:only-of-type {\n",
              "        vertical-align: middle;\n",
              "    }\n",
              "\n",
              "    .dataframe tbody tr th {\n",
              "        vertical-align: top;\n",
              "    }\n",
              "\n",
              "    .dataframe thead th {\n",
              "        text-align: right;\n",
              "    }\n",
              "</style>\n",
              "<table border=\"1\" class=\"dataframe\">\n",
              "  <thead>\n",
              "    <tr style=\"text-align: right;\">\n",
              "      <th></th>\n",
              "      <th>Наименование аэропорта РФ</th>\n",
              "      <th>средний грузопоток</th>\n",
              "    </tr>\n",
              "  </thead>\n",
              "  <tbody>\n",
              "    <tr>\n",
              "      <th>0</th>\n",
              "      <td>Абакан</td>\n",
              "      <td>70.9444</td>\n",
              "    </tr>\n",
              "    <tr>\n",
              "      <th>1</th>\n",
              "      <td>Айхал</td>\n",
              "      <td>None</td>\n",
              "    </tr>\n",
              "    <tr>\n",
              "      <th>2</th>\n",
              "      <td>Алдан</td>\n",
              "      <td>None</td>\n",
              "    </tr>\n",
              "    <tr>\n",
              "      <th>3</th>\n",
              "      <td>Амдерма</td>\n",
              "      <td>None</td>\n",
              "    </tr>\n",
              "    <tr>\n",
              "      <th>4</th>\n",
              "      <td>Анадырь</td>\n",
              "      <td>165.849</td>\n",
              "    </tr>\n",
              "    <tr>\n",
              "      <th>...</th>\n",
              "      <td>...</td>\n",
              "      <td>...</td>\n",
              "    </tr>\n",
              "    <tr>\n",
              "      <th>3468</th>\n",
              "      <td>Якутск</td>\n",
              "      <td>1131.45</td>\n",
              "    </tr>\n",
              "    <tr>\n",
              "      <th>3469</th>\n",
              "      <td>Якутск(Маган)</td>\n",
              "      <td>None</td>\n",
              "    </tr>\n",
              "    <tr>\n",
              "      <th>3470</th>\n",
              "      <td>Ямбург</td>\n",
              "      <td>4.6325</td>\n",
              "    </tr>\n",
              "    <tr>\n",
              "      <th>3471</th>\n",
              "      <td>Ярославль(Туношна)</td>\n",
              "      <td>1271.91</td>\n",
              "    </tr>\n",
              "    <tr>\n",
              "      <th>3472</th>\n",
              "      <td>Ярцево</td>\n",
              "      <td>None</td>\n",
              "    </tr>\n",
              "  </tbody>\n",
              "</table>\n",
              "<p>3473 rows × 2 columns</p>\n",
              "</div>"
            ],
            "text/plain": [
              "     Наименование аэропорта РФ средний грузопоток\n",
              "0                       Абакан            70.9444\n",
              "1                        Айхал               None\n",
              "2                        Алдан               None\n",
              "3                      Амдерма               None\n",
              "4                      Анадырь            165.849\n",
              "...                        ...                ...\n",
              "3468                    Якутск            1131.45\n",
              "3469             Якутск(Маган)               None\n",
              "3470                    Ямбург             4.6325\n",
              "3471        Ярославль(Туношна)            1271.91\n",
              "3472                    Ярцево               None\n",
              "\n",
              "[3473 rows x 2 columns]"
            ]
          },
          "metadata": {
            "tags": []
          },
          "execution_count": 16
        }
      ]
    },
    {
      "cell_type": "code",
      "metadata": {
        "id": "Zpjg4IIDxkSL"
      },
      "source": [
        ""
      ],
      "execution_count": 16,
      "outputs": []
    }
  ]
}